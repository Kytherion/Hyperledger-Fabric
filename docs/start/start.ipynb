{
  "cells": [
    {
      "cell_type": "markdown",
      "metadata": {
        "id": "gXXhctqjgXO7"
      },
      "source": [
        "##### Copyright 2022 The Cirq Developers"
      ]
    },
    {
      "cell_type": "code",
      "execution_count": null,
      "metadata": {
        "cellView": "form",
        "id": "z2RJVa8qgXou"
      },
      "outputs": [],
      "source": [
        "# @title Licensed under the Apache License, Version 2.0 (the \"License\");\n",
        "# you may not use this file except in compliance with the License.\n",
        "# You may obtain a copy of the License at\n",
        "#\n",
        "# https://www.apache.org/licenses/LICENSE-2.0\n",
        "#\n",
        "# Unless required by applicable law or agreed to in writing, software\n",
        "# distributed under the License is distributed on an \"AS IS\" BASIS,\n",
        "# WITHOUT WARRANTIES OR CONDITIONS OF ANY KIND, either express or implied.\n",
        "# See the License for the specific language governing permissions and\n",
        "# limitations under the License."
      ]
    },
    {
      "cell_type": "markdown",
      "metadata": {
        "id": "EQvWLKKRgZR9"
      },
      "source": [
        "# Hello Qubit"
      ]
    },
    {
      "cell_type": "markdown",
      "metadata": {
        "id": "EvZ_JecKga2p"
      },
      "source": [
        "<table class=\"tfo-notebook-buttons\" align=\"left\">\n",
        "  <td>\n",
        "    <a target=\"_blank\" href=\"https://quantumai.google/cirq/start/start\"><img src=\"https://quantumai.google/site-assets/images/buttons/quantumai_logo_1x.png\" />View on QuantumAI</a>\n",
        "  </td>\n",
        "  <td>\n",
        "    <a target=\"_blank\" href=\"https://colab.research.google.com/github/quantumlib/Cirq/blob/main/docs/start/start.ipynb\"><img src=\"https://quantumai.google/site-assets/images/buttons/colab_logo_1x.png\" />Run in Google Colab</a>\n",
        "  </td>\n",
        "  <td>\n",
        "    <a target=\"_blank\" href=\"https://github.com/quantumlib/Cirq/blob/main/docs/start/start.ipynb\"><img src=\"https://quantumai.google/site-assets/images/buttons/github_logo_1x.png\" />View source on GitHub</a>\n",
        "  </td>\n",
        "  <td>\n",
        "    <a href=\"https://storage.googleapis.com/tensorflow_docs/Cirq/docs/start/start.ipynb\"><img src=\"https://quantumai.google/site-assets/images/buttons/download_icon_1x.png\" />Download notebook</a>\n",
        "  </td>\n",
        "</table>"
      ]
    },
    {
      "cell_type": "code",
      "execution_count": null,
      "metadata": {
        "id": "n4GQUN8MS7vt",
        "colab": {
          "base_uri": "https://localhost:8080/"
        },
        "outputId": "0740ed6e-9dcf-4395-e2c2-d3ba71038765"
      },
      "outputs": [
        {
          "output_type": "stream",
          "name": "stdout",
          "text": [
            "installing fastecdsa...\n",
            "\u001b[2K   \u001b[90m━━━━━━━━━━━━━━━━━━━━━━━━━━━━━━━━━━━━━━━━\u001b[0m \u001b[32m302.6/302.6 kB\u001b[0m \u001b[31m1.6 MB/s\u001b[0m eta \u001b[36m0:00:00\u001b[0m\n",
            "\u001b[?25hinstalled fastecdsa.\n",
            "Thread searching range: 8589934592 to 9007205697191935\n",
            "Thread searching range: 9007205697191936 to 18014402804449279\n",
            "Thread searching range: 18014402804449280 to 27021599911706623\n",
            "Thread searching range: 27021599911706624 to 36028797018963968\n"
          ]
        }
      ],
      "source": [
        "# Import necessary libraries for elliptic curve operations\n",
        "try:\n",
        "    from fastecdsa.point import Point\n",
        "    from fastecdsa.curve import secp256k1\n",
        "except ImportError:\n",
        "    print(\"installing fastecdsa...\")\n",
        "    !pip install --quiet fastecdsa\n",
        "    from fastecdsa.point import Point\n",
        "    from fastecdsa.curve import secp256k1\n",
        "    print(\"installed fastecdsa.\")\n",
        "\n",
        "import threading\n",
        "import time\n",
        "\n",
        "# === CONFIG ===\n",
        "TARGET_PUBKEY_HEX = \"04a9c9c642db7941be7d9d467786c05b66d13c4fdafeb81d66815fb336e7e19d42981f62f2624826898152444b99b590476c90ea7f2e15f50a00e726368d6ec7c1\"\n",
        "TARGET_PUBKEY_BYTES = bytes.fromhex(TARGET_PUBKEY_HEX)\n",
        "TARGET_PUBKEY_X = int.from_bytes(TARGET_PUBKEY_BYTES[1:33], 'big')\n",
        "TARGET_PUBKEY_Y = int.from_bytes(TARGET_PUBKEY_BYTES[33:], 'big')\n",
        "TARGET_PUBKEY_POINT = Point(TARGET_PUBKEY_X, TARGET_PUBKEY_Y, curve=secp256k1)\n",
        "\n",
        "# Standard Generator Point for secp256k1\n",
        "G = secp256k1.G\n",
        "\n",
        "# === Brute-Force Function ===\n",
        "def classical_brute_force_range(start_priv_key, end_priv_key, target_pubkey):\n",
        "    print(f\"Thread searching range: {start_priv_key} to {end_priv_key}\")\n",
        "    for priv_key in range(start_priv_key, end_priv_key + 1):\n",
        "        # Perform scalar multiplication\n",
        "        candidate_pubkey = G * priv_key\n",
        "\n",
        "        # Check if the candidate public key matches the target\n",
        "        if candidate_pubkey == target_pubkey:\n",
        "            print(f\"\\n✅ SUCCESS: Private key found: {priv_key}\")\n",
        "            print(f\"Private key (hex): {priv_key:064x}\")\n",
        "            return priv_key # Found it!\n",
        "\n",
        "    print(f\"Thread finished searching range: {start_priv_key} to {end_priv_key} - Not found.\")\n",
        "    return None # Not found in this range\n",
        "\n",
        "# === Parallel Search (Classical) ===\n",
        "def parallel_classical_search(start_range, end_range, num_threads=4):\n",
        "    threads = []\n",
        "    total_keys_in_range = end_range - start_range + 1\n",
        "    keys_per_thread = total_keys_in_range // num_threads\n",
        "    found_key = None\n",
        "\n",
        "    start_time = time.time()\n",
        "\n",
        "    for i in range(num_threads):\n",
        "        thread_start = start_range + i * keys_per_thread\n",
        "        thread_end = thread_start + keys_per_thread - 1\n",
        "        if i == num_threads - 1: # Ensure the last thread covers the end of the range\n",
        "            thread_end = end_range\n",
        "\n",
        "        thread = threading.Thread(target=classical_brute_force_range,\n",
        "                                  args=(thread_start, thread_end, TARGET_PUBKEY_POINT))\n",
        "        threads.append(thread)\n",
        "        thread.start()\n",
        "\n",
        "    for thread in threads:\n",
        "        thread.join() # Wait for all threads to complete\n",
        "\n",
        "    end_time = time.time()\n",
        "    print(f\"\\nSearch finished in {end_time - start_time:.2f} seconds.\")\n",
        "\n",
        "# === Run the search ===\n",
        "# Define your desired search range here\n",
        "# Example: Searching a range of 2^33 keys starting from 0\n",
        "SEARCH_RANGE_START = 2**33\n",
        "SEARCH_RANGE_END = 2**55\n",
        "\n",
        "parallel_classical_search(SEARCH_RANGE_START, SEARCH_RANGE_END)"
      ]
    },
    {
      "cell_type": "markdown",
      "metadata": {
        "id": "shNBShuQTFuu"
      },
      "source": [
        "# Congratulations\n",
        "You've just run your first Cirq program.\n",
        "\n",
        "To learn about running a circuit on a virtual machine that mimics existing quantum hardware, see [Quantum Virtual Machine](../simulate/quantum_virtual_machine.ipynb).\n",
        "\n",
        "If you would like to learn more about quantum computing, check out our [education page](https://quantumai.google/resources). The Full API reference for Cirq can be found [here](/reference/python/cirq). If you are looking for vendor specific information that can be found on our vendor sub-pages:\n",
        "\n",
        "\n",
        "  [Alpine Quantum Technologies](../hardware/aqt/getting_started.ipynb)\n",
        "  \n",
        "  [Pasqal](../hardware/pasqal/getting_started.ipynb)\n",
        "  \n",
        "  [IonQ](../hardware/ionq/getting_started.ipynb)\n",
        "  \n",
        "  [Azure](../hardware/azure-quantum/getting_started_honeywell.ipynb)"
      ]
    }
  ],
  "metadata": {
    "colab": {
      "name": "start.ipynb",
      "provenance": []
    },
    "kernelspec": {
      "display_name": "Python 3",
      "name": "python3"
    }
  },
  "nbformat": 4,
  "nbformat_minor": 0
}